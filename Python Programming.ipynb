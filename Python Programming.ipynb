{
 "cells": [
  {
   "cell_type": "markdown",
   "id": "ed9d5e82",
   "metadata": {},
   "source": [
    "# Introduction"
   ]
  },
  {
   "cell_type": "markdown",
   "id": "b3d6c689",
   "metadata": {},
   "source": [
    "## Example future value"
   ]
  },
  {
   "cell_type": "code",
   "execution_count": 7,
   "id": "e649273a",
   "metadata": {},
   "outputs": [
    {
     "name": "stdout",
     "output_type": "stream",
     "text": [
      "194.87\n"
     ]
    }
   ],
   "source": [
    "pv = 100\n",
    "r = 0.1\n",
    "n = 7\n",
    "fv = pv * (1 + r) ** n\n",
    "print(round(fv, 2))"
   ]
  },
  {
   "cell_type": "code",
   "execution_count": 8,
   "id": "30c3df48",
   "metadata": {},
   "outputs": [
    {
     "name": "stdout",
     "output_type": "stream",
     "text": [
      "194.87\n"
     ]
    }
   ],
   "source": [
    "amount = 100\n",
    "interest = 10 # 0.01 * 10\n",
    "years = 7\n",
    "future_value = amount * (1 + interest / 100) ** years\n",
    "print(round(future_value, 2))"
   ]
  },
  {
   "cell_type": "markdown",
   "id": "08838867",
   "metadata": {},
   "source": [
    "### Python Function"
   ]
  },
  {
   "cell_type": "code",
   "execution_count": 9,
   "id": "39fb935f",
   "metadata": {},
   "outputs": [],
   "source": [
    "#Function\n",
    "def future_value(pv, r, n):\n",
    "    fv = pv * (1+r)**n\n",
    "    return round(fv, 2)"
   ]
  },
  {
   "cell_type": "markdown",
   "id": "3888717a",
   "metadata": {},
   "source": [
    "### Python if else"
   ]
  },
  {
   "cell_type": "code",
   "execution_count": 10,
   "id": "dcda9688",
   "metadata": {},
   "outputs": [
    {
     "name": "stdout",
     "output_type": "stream",
     "text": [
      "Pass\n"
     ]
    }
   ],
   "source": [
    "#Python if else\n",
    "score=80\n",
    "if score >=60: print(\"Pass\")\n",
    "else: print(\"Fail\")"
   ]
  },
  {
   "cell_type": "markdown",
   "id": "5373f979",
   "metadata": {},
   "source": [
    "# Python Programming\n"
   ]
  },
  {
   "cell_type": "markdown",
   "id": "5e289f79",
   "metadata": {},
   "source": [
    "## Python Hello World"
   ]
  },
  {
   "cell_type": "code",
   "execution_count": 11,
   "id": "bb46fb9e",
   "metadata": {},
   "outputs": [
    {
     "name": "stdout",
     "output_type": "stream",
     "text": [
      "Hello World\n"
     ]
    }
   ],
   "source": [
    "print(\"Hello World\")\n"
   ]
  },
  {
   "cell_type": "markdown",
   "id": "e4c6f891",
   "metadata": {},
   "source": [
    "## Python Syntax"
   ]
  },
  {
   "cell_type": "markdown",
   "id": "52f03d64",
   "metadata": {},
   "source": [
    "### Indentation the spaces at the beginning of a code line 4 spaces\n",
    " "
   ]
  },
  {
   "cell_type": "code",
   "execution_count": 12,
   "id": "df88b17e",
   "metadata": {},
   "outputs": [
    {
     "name": "stdout",
     "output_type": "stream",
     "text": [
      "Pass\n"
     ]
    }
   ],
   "source": [
    "score = 80\n",
    "if score >=60 :\n",
    "    print(\"Pass\")\n"
   ]
  },
  {
   "cell_type": "markdown",
   "id": "d2ac6d0e",
   "metadata": {},
   "source": [
    "## Python Variables"
   ]
  },
  {
   "cell_type": "code",
   "execution_count": 13,
   "id": "b72c9ae5",
   "metadata": {},
   "outputs": [],
   "source": [
    "x = 2\n",
    "price = 2.5\n",
    "word = 'Hello'\n",
    "word = 'Hello'\n",
    "word = \"Hello\"\n",
    "word = '''Hello'''\n",
    "x = 2\n",
    "y = x + 1"
   ]
  },
  {
   "cell_type": "markdown",
   "id": "1766c330",
   "metadata": {},
   "source": [
    "## Python version"
   ]
  },
  {
   "cell_type": "code",
   "execution_count": 14,
   "id": "417a12d7",
   "metadata": {},
   "outputs": [
    {
     "name": "stdout",
     "output_type": "stream",
     "text": [
      "3.11.9\n"
     ]
    }
   ],
   "source": [
    "from platform import python_version\n",
    "print(python_version())"
   ]
  },
  {
   "cell_type": "markdown",
   "id": "79b9a8bb",
   "metadata": {},
   "source": [
    "## Python Data Types"
   ]
  },
  {
   "cell_type": "code",
   "execution_count": 17,
   "id": "b73d12bd",
   "metadata": {},
   "outputs": [],
   "source": [
    "x = \"Hello World\" #str \n",
    "x = 2 #int \n",
    "x = 2.5 #float\n",
    "x = 7j #complex"
   ]
  },
  {
   "cell_type": "code",
   "execution_count": 18,
   "id": "24d224ab",
   "metadata": {},
   "outputs": [],
   "source": [
    "x = [\"apple\", \"banana\", \"cherry\"] #list \n",
    "x = (\"apple\", \"banana\", \"cherry\") #tuple \n",
    "x = range(6) #range \n",
    "x = {\"name\": \"Tom\", \"age\": 20} #dict\n",
    "x = {\"apple\", \"banana\", \"cherry\"} #set \n",
    "x = frozenset({\"apple\", \"banana\", \"cherry\"}) #frozenset\n",
    "x = True #bool \n",
    "x = b\"Hello\" #bytes \n",
    "x = bytearray(5) #bytearray\n",
    "x = memoryview(bytes(5)) #memoryview\n",
    "x = None #NoneType"
   ]
  },
  {
   "cell_type": "markdown",
   "id": "2271737b",
   "metadata": {},
   "source": [
    "## Python casting"
   ]
  },
  {
   "cell_type": "code",
   "execution_count": 19,
   "id": "1db36f7e",
   "metadata": {},
   "outputs": [
    {
     "name": "stdout",
     "output_type": "stream",
     "text": [
      "3 <class 'str'>\n",
      "3 <class 'int'>\n",
      "3.0 <class 'float'>\n"
     ]
    }
   ],
   "source": [
    "x = str(3) # x will be '3'\n",
    "y = int(3) # y will be 3\n",
    "z = float(3) # z will be 3.0\n",
    "print (x, type(x))\n",
    "print (y, type(y))\n",
    "print (z, type(z))"
   ]
  },
  {
   "cell_type": "code",
   "execution_count": 20,
   "id": "fc2e4389",
   "metadata": {},
   "outputs": [
    {
     "name": "stdout",
     "output_type": "stream",
     "text": [
      "2 <class 'int'>\n",
      "3.4 <class 'float'>\n",
      "7j <class 'complex'>\n"
     ]
    }
   ],
   "source": [
    "x = 2# int\n",
    "y = 3.4# float\n",
    "z = 7j #complex\n",
    "print(x, type(x))\n",
    "print(y, type(y))\n",
    "print(z, type(z))"
   ]
  },
  {
   "cell_type": "markdown",
   "id": "8cbf268e",
   "metadata": {},
   "source": [
    "## Python Basic Operators"
   ]
  },
  {
   "cell_type": "code",
   "execution_count": null,
   "id": "b625e809",
   "metadata": {},
   "outputs": [
    {
     "name": "stdout",
     "output_type": "stream",
     "text": [
      "7 + 2 = 9\n",
      "7 -2 = 5\n",
      "7 * 2 = 14\n",
      "7 / 2 = 3.5\n",
      "7 // 2 = 3\n",
      "7 % 2 = 1\n",
      "7 ** 2 = 49\n"
     ]
    }
   ],
   "source": [
    "print('7 + 2 =', 7+ 2) # Addition\n",
    "print('7 - 2 =', 7-2) # Subtraction\n",
    "print('7 * 2 =', 7* 2)  # Multiplication\n",
    "print('7 / 2 =', 7/ 2)  # Division\n",
    "print('7 // 2 =', 7// 2) # Floor Division\n",
    "print('7 % 2 =', 7% 2) # Modulus\n",
    "print('7 ** 2 =', 7** 2) # Exponentiation"
   ]
  },
  {
   "cell_type": "markdown",
   "id": "cad8c2aa",
   "metadata": {},
   "source": [
    "## Python Booleans:  True or False"
   ]
  },
  {
   "cell_type": "code",
   "execution_count": 22,
   "id": "7ff3d377",
   "metadata": {},
   "outputs": [
    {
     "name": "stdout",
     "output_type": "stream",
     "text": [
      "True\n",
      "False\n",
      "False\n"
     ]
    }
   ],
   "source": [
    "print(3 > 2)\n",
    "print(3 == 2)\n",
    "print(3 < 2)"
   ]
  },
  {
   "cell_type": "markdown",
   "id": "fcce2a38",
   "metadata": {},
   "source": [
    "## Python BMI Calculator"
   ]
  },
  {
   "cell_type": "code",
   "execution_count": 23,
   "id": "0b327b6e",
   "metadata": {},
   "outputs": [
    {
     "name": "stdout",
     "output_type": "stream",
     "text": [
      "Your BMI is: 20.8\n"
     ]
    }
   ],
   "source": [
    "# BMI Calculator in Python\n",
    "height_cm= 170\n",
    "weight_kg= 60\n",
    "height_m= height_cm/100\n",
    "BMI = (weight_kg/(height_m**2))\n",
    "print(\"Your BMI is: \" + str(round(BMI,1)))"
   ]
  },
  {
   "cell_type": "markdown",
   "id": "038e4b7a",
   "metadata": {},
   "source": [
    "## Python Data Structures\n"
   ]
  },
  {
   "cell_type": "code",
   "execution_count": 24,
   "id": "24c6eed7",
   "metadata": {},
   "outputs": [],
   "source": [
    "x = [\"apple\", \"banana\", \"cherry\"] #list \n",
    "x = (\"apple\", \"banana\", \"cherry\") #tuple \n",
    "x = {\"name\" : \"Tom\", \"age\" : 20} #dict\n",
    "x = {\"apple\", \"banana\", \"cherry\"} #set"
   ]
  },
  {
   "cell_type": "markdown",
   "id": "d4ca79ca",
   "metadata": {},
   "source": [
    "**Note**:\n",
    "1. List là danh sách có thứ tự, cho phép thay đổi giá trị phần tử, cho phép các phần tử giống nhau và có thể truy cập theo index.  \n",
    "2. Tuple là danh sách có thứ tự, bất biến, cho phép các phần tử giống nhau và có thể truy cập theo index.  \n",
    "3. Dict là từ điển (key-value), cho phép thay đổi giá trị phần tử, các phần tử không được phép giống nhau và có index.  \n",
    "4. Set là tập hợp không thứ tự, có thể thêm/xóa phần tử, phần tử khác nhau và không index.  \n",
    "5. Frozenset là tập hợp không thứ tự, bất biến, phần tử khác nhau và không index.  "
   ]
  },
  {
   "cell_type": "markdown",
   "id": "780dbce7",
   "metadata": {},
   "source": [
    "### List[]\n"
   ]
  },
  {
   "cell_type": "code",
   "execution_count": 25,
   "id": "3b0a70bb",
   "metadata": {},
   "outputs": [
    {
     "name": "stdout",
     "output_type": "stream",
     "text": [
      "4\n",
      "60\n",
      "70\n",
      "90\n",
      "80\n"
     ]
    }
   ],
   "source": [
    "x = [60, 70, 80, 90]\n",
    "print(len(x))\n",
    "print(x[0])\n",
    "print(x[1])\n",
    "print(x[-1])\n",
    "print(x[-2])"
   ]
  },
  {
   "cell_type": "markdown",
   "id": "e2d5bc16",
   "metadata": {},
   "source": [
    "**Hàm len()**  \n",
    "- Chức năng: Trả về số lượng phần tử (độ dài) trong một đối tượng (như danh sách, tuple, set, từ điển, hoặc chuỗi).\n",
    "- Cú pháp: len(đối_tượng)  \n",
    "\n",
    "**Hàm type()**\n",
    "- Chức năng: Trả về kiểu dữ liệu của đối tượng được truyền vào. Đây là một công cụ hữu ích để kiểm tra và gỡ lỗi.\n",
    "- Cú pháp: type(đối_tượng)  \n",
    "\n",
    "**Hàm tạo list()**\n",
    "- Chức năng: Là một constructor (hàm tạo) để tạo một đối tượng danh sách (list) mới. Nó có thể chuyển đổi các kiểu dữ liệu có thể lặp lại (như tuple, set, chuỗi, từ điển) thành một list.\n",
    "- Cú pháp: list((các_phần_tử)) hoặc list(đối_tượng_có_thể_lặp)\n",
    "*Lưu ý*: Khi tạo list từ một đối tượng khác, bạn chỉ cần truyền đối tượng đó vào."
   ]
  },
  {
   "cell_type": "markdown",
   "id": "068b3a50",
   "metadata": {},
   "source": [
    "# Các Phương Thức Của Danh Sách (List) trong Python\n",
    "\n",
    "| Phương Thức | Mô Tả |\n",
    "| :---------- | :---- |\n",
    "| **append()** | Thêm một phần tử vào **cuối** danh sách |\n",
    "| **clear()** | Xóa **tất cả** các phần tử khỏi danh sách |\n",
    "| **copy()** | Trả về một **bản sao** của danh sách |\n",
    "| **count()** | Trả về **số lần xuất hiện** của một giá trị được chỉ định |\n",
    "| **extend()** | Thêm các phần tử của một danh sách (hoặc iterable) vào **cuối** danh sách hiện tại |\n",
    "| **index()** | Trả về **chỉ số** của phần tử **đầu tiên** có giá trị được chỉ định |\n",
    "| **insert()** | Thêm một phần tử vào **vị trí được chỉ định** |\n",
    "| **pop()** | Xóa phần tử tại **vị trí được chỉ định** (mặc định là phần tử cuối cùng) |\n",
    "| **remove()** | Xóa phần tử **đầu tiên** có **giá trị được chỉ định** |\n",
    "| **reverse()** | **Đảo ngược** thứ tự các phần tử trong danh sách |\n",
    "| **sort()** | **Sắp xếp** danh sách |"
   ]
  },
  {
   "cell_type": "markdown",
   "id": "d7567f8d",
   "metadata": {},
   "source": [
    "### Tuples ()"
   ]
  },
  {
   "cell_type": "code",
   "execution_count": 2,
   "id": "c5762a50",
   "metadata": {},
   "outputs": [
    {
     "name": "stdout",
     "output_type": "stream",
     "text": [
      "10\n",
      "20\n",
      "30\n",
      "50\n",
      "40\n"
     ]
    }
   ],
   "source": [
    "x = (10, 20, 30, 40, 50)\n",
    "print(x[0])\n",
    "print(x[1])\n",
    "print(x[2])\n",
    "print(x[-1])\n",
    "print(x[-2])"
   ]
  },
  {
   "cell_type": "markdown",
   "id": "0b4b5e6e",
   "metadata": {},
   "source": [
    "### Sets {}"
   ]
  },
  {
   "cell_type": "code",
   "execution_count": 3,
   "id": "97a7c21f",
   "metadata": {},
   "outputs": [
    {
     "name": "stdout",
     "output_type": "stream",
     "text": [
      "True\n",
      "False\n",
      "True\n",
      "3\n",
      "3\n",
      "2\n"
     ]
    }
   ],
   "source": [
    "animals = {'cat', 'dog'}\n",
    "print('cat' in animals)\n",
    "print('fish' in animals)\n",
    "animals.add('fish')\n",
    "print('fish' in animals)\n",
    "print(len(animals))\n",
    "animals.add('cat')\n",
    "print(len(animals))\n",
    "animals.remove('cat')\n",
    "print(len(animals))"
   ]
  },
  {
   "cell_type": "markdown",
   "id": "7258ab31",
   "metadata": {},
   "source": [
    "### Dictionary {key : value}\n",
    "Python Dictionary\n",
    "Key → Value\n",
    "'EN’ → 'English’\n",
    "'FR’ → 'French'"
   ]
  },
  {
   "cell_type": "code",
   "execution_count": 5,
   "id": "c607fcb2",
   "metadata": {},
   "outputs": [
    {
     "name": "stdout",
     "output_type": "stream",
     "text": [
      "English\n"
     ]
    }
   ],
   "source": [
    "k = { 'EN':'English', 'FR':'French' }\n",
    "print(k['EN'])"
   ]
  },
  {
   "cell_type": "code",
   "execution_count": 6,
   "id": "f2370294",
   "metadata": {},
   "outputs": [],
   "source": [
    "fruits = [\"apple\", \"banana\", \"cherry\"] #lists []\n",
    "colors = (\"red\", \"green\", \"blue\") #tuples ()\n",
    "animals = {'cat', 'dog'} #sets {}\n",
    "person = {\"name\" : \"Tom\", \"age\" : 20} #dictionaries {}"
   ]
  },
  {
   "cell_type": "markdown",
   "id": "56cbd1a9",
   "metadata": {},
   "source": [
    "### Python for Finance Applications"
   ]
  },
  {
   "cell_type": "code",
   "execution_count": 7,
   "id": "7b4ed0c8",
   "metadata": {},
   "outputs": [
    {
     "name": "stdout",
     "output_type": "stream",
     "text": [
      "Total expenses: 293.5\n"
     ]
    }
   ],
   "source": [
    "# Python Lists\n",
    "expenses = [72.50, 80.75, 50.00, 90.25]\n",
    "total_expenses = sum(expenses)\n",
    "print(\"Total expenses:\", total_expenses)"
   ]
  },
  {
   "cell_type": "code",
   "execution_count": null,
   "id": "5d410308",
   "metadata": {},
   "outputs": [
    {
     "name": "stdout",
     "output_type": "stream",
     "text": [
      "Account name: Cash Account number: 1001\n",
      "Account name: Accounts Receivable Account number: 1002\n",
      "Account name: Inventory Account number: 1003\n"
     ]
    }
   ],
   "source": [
    "# Python Tuples\n",
    "accounts = ((\"Cash\", 1001), (\"Accounts Receivable\", 1002), (\"Inventory\", 1003))\n",
    "for account in accounts:\n",
    "    print(\"Account name:\", account[0], \"Account number:\", account[1])"
   ]
  },
  {
   "cell_type": "code",
   "execution_count": 9,
   "id": "735fbf56",
   "metadata": {},
   "outputs": [
    {
     "name": "stdout",
     "output_type": "stream",
     "text": [
      "Account number 1004 is not in use.\n"
     ]
    }
   ],
   "source": [
    "# Python Sets\n",
    "account_numbers = {1001, 1002, 1003}\n",
    "new_account_number = 1004\n",
    "if new_account_number not in account_numbers:\n",
    "    print(\"Account number\", new_account_number, \"is not in use.\")   "
   ]
  },
  {
   "cell_type": "code",
   "execution_count": 10,
   "id": "2d1c448b",
   "metadata": {},
   "outputs": [
    {
     "name": "stdout",
     "output_type": "stream",
     "text": [
      "Account number: 1001\n",
      "Account name: Cash\n",
      "Account balance: 500.0\n",
      "Account type: Asset\n",
      "Account number: 1002\n",
      "Account name: Accounts Receivable\n",
      "Account balance: 1000.0\n",
      "Account type: Asset\n",
      "Account number: 2001\n",
      "Account name: Accounts Payable\n",
      "Account balance: 750.0\n",
      "Account type: Liability\n"
     ]
    }
   ],
   "source": [
    "# Python Dictionaries\n",
    "accounts = {\"1001\": {\"name\": \"Cash\", \"balance\": 500.00, \"type\": \"Asset\"},\n",
    "\"1002\": {\"name\": \"Accounts Receivable\", \"balance\": 1000.00, \"type\": \"Asset\"},\n",
    "\"2001\": {\"name\": \"Accounts Payable\", \"balance\": 750.00, \"type\": \"Liability\"}}\n",
    "for account_number, account_info in accounts.items():\n",
    "    print(\"Account number:\", account_number)\n",
    "    print(\"Account name:\", account_info[\"name\"])\n",
    "    print(\"Account balance:\", account_info[\"balance\"])\n",
    "    print(\"Account type:\", account_info[\"type\"])"
   ]
  },
  {
   "cell_type": "markdown",
   "id": "640ffb67",
   "metadata": {},
   "source": [
    "### Summary"
   ]
  },
  {
   "cell_type": "markdown",
   "id": "7e176af6",
   "metadata": {},
   "source": [
    "Python Data Structures  \n",
    "- Python Lists [] \n",
    "- Python Tuples () \n",
    "- Python Sets {} \n",
    "- Python Dictionaries {k:v}"
   ]
  },
  {
   "cell_type": "markdown",
   "id": "425f26f8",
   "metadata": {},
   "source": [
    "## Python Control Logic and Loops\n",
    "Python if else\n",
    "- if elif else\n",
    "- Booleans: True, False\n",
    "- Operators: ==, !=, >, <, >=, <=, and, or, not\n",
    "\n",
    "Python for Loops\n",
    "- for\n",
    "\n",
    "Python while Loops\n",
    "- while\n",
    "- break\n",
    "- continue"
   ]
  },
  {
   "cell_type": "markdown",
   "id": "4bbb74bd",
   "metadata": {},
   "source": [
    "### Python if...else\n",
    "Python if...else\n",
    "\n",
    "- if elif else\n",
    "- Booleans: True, False\n",
    "- Operators: ==, !=, >, <, >=, <=, and, or, not"
   ]
  },
  {
   "cell_type": "markdown",
   "id": "bbc1d63e",
   "metadata": {},
   "source": [
    "### Python supports the usual logical conditions from mathematics:\n",
    "- Equals: a == b\n",
    "- Not Equals: a != b\n",
    "- Less than: a < b\n",
    "- Less than or equal to: a <= b\n",
    "- Greater than: a > b\n",
    "- Greater than or equal to: a >= bPython Conditions and If statements"
   ]
  },
  {
   "cell_type": "markdown",
   "id": "75f89bd5",
   "metadata": {},
   "source": [
    "### Python Comparison Operators\n",
    "| Operator | Name | Example |\n",
    "|---|---|---|\n",
    "| == | Equal | x == y |\n",
    "| != | Not equal | x != y |\n",
    "| > | Greater than | x > y |\n",
    "| < | Less than | x < y |\n",
    "| >= | Greater than or equal to | x >= y |\n",
    "| <= | Less than or equal to | x <= y |"
   ]
  },
  {
   "cell_type": "markdown",
   "id": "e90c26f1",
   "metadata": {},
   "source": [
    "### Python Logical Operators\n",
    "\n",
    "| Operator | Description | Example |\n",
    "|---|---|---|\n",
    "| and | Returns True if both statements are true | x < 5 and x < 10 |\n",
    "| or | Returns True if one of the statements is true | x < 5 or x < 4 |\n",
    "| not | Reverse the result, returns False if the result is true | not(x < 5 and x < 10) |"
   ]
  },
  {
   "cell_type": "markdown",
   "id": "2105bf05",
   "metadata": {},
   "source": [
    "### Python if"
   ]
  },
  {
   "cell_type": "code",
   "execution_count": 11,
   "id": "5c5352b9",
   "metadata": {},
   "outputs": [
    {
     "name": "stdout",
     "output_type": "stream",
     "text": [
      "Pass\n"
     ]
    }
   ],
   "source": [
    "# Python if\n",
    "score = 80\n",
    "if score >=60 :\n",
    "    print(\"Pass\")"
   ]
  },
  {
   "cell_type": "markdown",
   "id": "02351ff8",
   "metadata": {},
   "source": [
    "### Python if else\n"
   ]
  },
  {
   "cell_type": "code",
   "execution_count": 12,
   "id": "7f7a114f",
   "metadata": {},
   "outputs": [
    {
     "name": "stdout",
     "output_type": "stream",
     "text": [
      "Pass\n"
     ]
    }
   ],
   "source": [
    "# Python if else\n",
    "score = 80\n",
    "if score >=60 :\n",
    "    print(\"Pass\")\n",
    "else:\n",
    "    print(\"Fail\")"
   ]
  },
  {
   "cell_type": "markdown",
   "id": "1026191b",
   "metadata": {},
   "source": [
    "### Python if elif else"
   ]
  },
  {
   "cell_type": "code",
   "execution_count": 13,
   "id": "27e2f366",
   "metadata": {},
   "outputs": [
    {
     "name": "stdout",
     "output_type": "stream",
     "text": [
      "A\n"
     ]
    }
   ],
   "source": [
    "score = 95\n",
    "if score >= 90 :\n",
    "    print(\"A\")\n",
    "elif score >=60 :\n",
    "    print(\"Pass\")\n",
    "else:\n",
    "    print(\"Fail\")"
   ]
  },
  {
   "cell_type": "code",
   "execution_count": 14,
   "id": "bd9595a9",
   "metadata": {},
   "outputs": [
    {
     "name": "stdout",
     "output_type": "stream",
     "text": [
      "A\n"
     ]
    }
   ],
   "source": [
    "# Python if elif else\n",
    "score = 90\n",
    "grade = \"\"\n",
    "if score >=90:\n",
    "    grade = \"A\"\n",
    "elif score >= 80:\n",
    "    grade = \"B\"\n",
    "elif score >= 70:\n",
    "    grade = \"C\"\n",
    "elif score >= 60:\n",
    "    grade = \"D\"\n",
    "else:\n",
    "    grade = \"E\"\n",
    "print(grade)"
   ]
  },
  {
   "cell_type": "markdown",
   "id": "8c1b05af",
   "metadata": {},
   "source": [
    "### Python for Loops"
   ]
  },
  {
   "cell_type": "code",
   "execution_count": 15,
   "id": "b7e03000",
   "metadata": {},
   "outputs": [
    {
     "name": "stdout",
     "output_type": "stream",
     "text": [
      "1\n",
      "2\n",
      "3\n",
      "4\n",
      "5\n"
     ]
    }
   ],
   "source": [
    "for i in range(1,6):\n",
    "    print(i)"
   ]
  },
  {
   "cell_type": "code",
   "execution_count": 16,
   "id": "245dbe4a",
   "metadata": {},
   "outputs": [
    {
     "name": "stdout",
     "output_type": "stream",
     "text": [
      "1  *  1  =  1\n",
      "1  *  2  =  2\n",
      "1  *  3  =  3\n",
      "1  *  4  =  4\n",
      "1  *  5  =  5\n",
      "1  *  6  =  6\n",
      "1  *  7  =  7\n",
      "1  *  8  =  8\n",
      "1  *  9  =  9\n",
      "2  *  1  =  2\n",
      "2  *  2  =  4\n",
      "2  *  3  =  6\n",
      "2  *  4  =  8\n",
      "2  *  5  =  10\n",
      "2  *  6  =  12\n",
      "2  *  7  =  14\n",
      "2  *  8  =  16\n",
      "2  *  9  =  18\n",
      "3  *  1  =  3\n",
      "3  *  2  =  6\n",
      "3  *  3  =  9\n",
      "3  *  4  =  12\n",
      "3  *  5  =  15\n",
      "3  *  6  =  18\n",
      "3  *  7  =  21\n",
      "3  *  8  =  24\n",
      "3  *  9  =  27\n",
      "4  *  1  =  4\n",
      "4  *  2  =  8\n",
      "4  *  3  =  12\n",
      "4  *  4  =  16\n",
      "4  *  5  =  20\n",
      "4  *  6  =  24\n",
      "4  *  7  =  28\n",
      "4  *  8  =  32\n",
      "4  *  9  =  36\n",
      "5  *  1  =  5\n",
      "5  *  2  =  10\n",
      "5  *  3  =  15\n",
      "5  *  4  =  20\n",
      "5  *  5  =  25\n",
      "5  *  6  =  30\n",
      "5  *  7  =  35\n",
      "5  *  8  =  40\n",
      "5  *  9  =  45\n",
      "6  *  1  =  6\n",
      "6  *  2  =  12\n",
      "6  *  3  =  18\n",
      "6  *  4  =  24\n",
      "6  *  5  =  30\n",
      "6  *  6  =  36\n",
      "6  *  7  =  42\n",
      "6  *  8  =  48\n",
      "6  *  9  =  54\n",
      "7  *  1  =  7\n",
      "7  *  2  =  14\n",
      "7  *  3  =  21\n",
      "7  *  4  =  28\n",
      "7  *  5  =  35\n",
      "7  *  6  =  42\n",
      "7  *  7  =  49\n",
      "7  *  8  =  56\n",
      "7  *  9  =  63\n",
      "8  *  1  =  8\n",
      "8  *  2  =  16\n",
      "8  *  3  =  24\n",
      "8  *  4  =  32\n",
      "8  *  5  =  40\n",
      "8  *  6  =  48\n",
      "8  *  7  =  56\n",
      "8  *  8  =  64\n",
      "8  *  9  =  72\n",
      "9  *  1  =  9\n",
      "9  *  2  =  18\n",
      "9  *  3  =  27\n",
      "9  *  4  =  36\n",
      "9  *  5  =  45\n",
      "9  *  6  =  54\n",
      "9  *  7  =  63\n",
      "9  *  8  =  72\n",
      "9  *  9  =  81\n"
     ]
    }
   ],
   "source": [
    "# for loops\n",
    "for i in range(1,10):\n",
    "    for j in range(1,10):\n",
    "        print(i, ' * ' , j , ' = ', i*j)"
   ]
  },
  {
   "cell_type": "markdown",
   "id": "be73667d",
   "metadata": {},
   "source": [
    "### Python while Loops\n",
    "while\n",
    "\n",
    "- break\n",
    "- continue"
   ]
  },
  {
   "cell_type": "code",
   "execution_count": 17,
   "id": "958b4800",
   "metadata": {},
   "outputs": [
    {
     "name": "stdout",
     "output_type": "stream",
     "text": [
      "10\n",
      "11\n",
      "12\n",
      "13\n",
      "14\n",
      "15\n",
      "16\n",
      "17\n",
      "18\n",
      "19\n"
     ]
    }
   ],
   "source": [
    "# while loops\n",
    "age = 10\n",
    "while age < 20:\n",
    "    print(age)\n",
    "    age = age + 1       "
   ]
  },
  {
   "cell_type": "markdown",
   "id": "8367e4de",
   "metadata": {},
   "source": [
    "### Summary\n",
    "**Python if else**\n",
    "\n",
    "- if elif else\n",
    "- Booleans: True, False\n",
    "- Operators: ==, !=, >, <, >=, <=, and, or, not\n",
    "\n",
    "**Python for Loops**\n",
    "- for\n",
    "\n",
    "**Python while Loops**\n",
    "\n",
    "- while\n",
    "- break\n",
    "- continue"
   ]
  },
  {
   "cell_type": "markdown",
   "id": "fb2dc7b5",
   "metadata": {},
   "source": [
    "## Python Functions\n",
    "\n",
    "- A function is a block of code which only runs when it is called.\n",
    "- You can pass data, known as parameters, into a function.\n",
    "- A function can return data as a result.\n",
    "- Creating a Function\n",
    "- In Python a function is defined using the def keyword:"
   ]
  },
  {
   "cell_type": "markdown",
   "id": "bed21486",
   "metadata": {},
   "source": [
    "### Python Function def"
   ]
  },
  {
   "cell_type": "code",
   "execution_count": 18,
   "id": "3d0c584e",
   "metadata": {},
   "outputs": [
    {
     "name": "stdout",
     "output_type": "stream",
     "text": [
      "194.87\n"
     ]
    }
   ],
   "source": [
    "# Python Function def\n",
    "# indentation for blocks. four spaces\n",
    "def getfv(pv, r, n):\n",
    "    fv = pv * ((1 + (r)) ** n)\n",
    "    return fv\n",
    "fv = getfv(100, 0.1, 7)\n",
    "print(round(fv, 2))"
   ]
  },
  {
   "cell_type": "markdown",
   "id": "4181514b",
   "metadata": {},
   "source": [
    "## Future value of a specified principal amount, rate of interest, and a number of years"
   ]
  },
  {
   "cell_type": "markdown",
   "id": "1ae57dec",
   "metadata": {},
   "source": [
    "### How much is your $100 worth after 7 years?"
   ]
  },
  {
   "cell_type": "code",
   "execution_count": 19,
   "id": "ff8223cf",
   "metadata": {},
   "outputs": [
    {
     "name": "stdout",
     "output_type": "stream",
     "text": [
      "fv =  194.87\n"
     ]
    }
   ],
   "source": [
    "# How much is your $100 worth after 7 years?\n",
    "fv = 100 * 1.1 ** 7\n",
    "print('fv = ', round(fv, 2))\n",
    "# output = 194.87"
   ]
  },
  {
   "cell_type": "code",
   "execution_count": 20,
   "id": "8a315db8",
   "metadata": {},
   "outputs": [
    {
     "name": "stdout",
     "output_type": "stream",
     "text": [
      "194.87\n"
     ]
    }
   ],
   "source": [
    "# Future Value\n",
    "pv = 100\n",
    "r = 0.1\n",
    "n = 7\n",
    "fv = pv * ((1 + (r)) ** n)\n",
    "print(round(fv, 2))"
   ]
  },
  {
   "cell_type": "code",
   "execution_count": 21,
   "id": "c2fb434c",
   "metadata": {},
   "outputs": [
    {
     "name": "stdout",
     "output_type": "stream",
     "text": [
      "194.87\n"
     ]
    }
   ],
   "source": [
    "# Future Value\n",
    "amount = 100\n",
    "interest = 10 #10% = 0.01 * 10\n",
    "years = 7\n",
    "\n",
    "future_value = amount * ((1 + (0.01 * interest)) ** years)\n",
    "print(round(future_value, 2))"
   ]
  },
  {
   "cell_type": "code",
   "execution_count": 22,
   "id": "af2bc87e",
   "metadata": {},
   "outputs": [
    {
     "name": "stdout",
     "output_type": "stream",
     "text": [
      "194.87\n"
     ]
    }
   ],
   "source": [
    "# Python Function def\n",
    "# indentation for blocks. four spaces\n",
    "def getfv(pv, r, n):\n",
    "\n",
    "    fv = pv * ((1 + (r)) ** n)\n",
    "    return fv\n",
    "\n",
    "fv = getfv(100, 0.1, 7)\n",
    "print(round(fv, 2))"
   ]
  },
  {
   "cell_type": "markdown",
   "id": "612656ad",
   "metadata": {},
   "source": [
    "## Python Classes/Objects class MyClass:"
   ]
  },
  {
   "cell_type": "markdown",
   "id": "b945b438",
   "metadata": {},
   "source": [
    "### Python Classes/Objects\n",
    "Python is an object oriented programming language.\n",
    "\n",
    "- Almost everything in Python is an object, with its properties and methods.\n",
    "- A Class is like an object constructor, or a \"blueprint\" for creating objects.\n",
    "- Create a Class:\n",
    "- To create a class, use the keyword class:"
   ]
  },
  {
   "cell_type": "markdown",
   "id": "0030458c",
   "metadata": {},
   "source": [
    "**class MyClass:**"
   ]
  },
  {
   "cell_type": "code",
   "execution_count": 23,
   "id": "6b3503b1",
   "metadata": {},
   "outputs": [
    {
     "name": "stdout",
     "output_type": "stream",
     "text": [
      "5\n"
     ]
    }
   ],
   "source": [
    "# Python class\n",
    "class MyClass:\n",
    "    x = 5\n",
    "\n",
    "c1 = MyClass()\n",
    "print(c1.x)"
   ]
  },
  {
   "cell_type": "code",
   "execution_count": 24,
   "id": "84119713",
   "metadata": {},
   "outputs": [
    {
     "name": "stdout",
     "output_type": "stream",
     "text": [
      "Alan\n",
      "20\n"
     ]
    }
   ],
   "source": [
    "class Person:\n",
    "\n",
    "    def __init__(self, name, age):\n",
    "        self.name = name\n",
    "        self.age = age\n",
    "\n",
    "p1 = Person(\"Alan\", 20)\n",
    "\n",
    "print(p1.name)\n",
    "print(p1.age)"
   ]
  },
  {
   "cell_type": "markdown",
   "id": "dc33a44c",
   "metadata": {},
   "source": [
    "*self tương tự với this, có thể đổi self thành tên khác nhưng khai báo đầu tiên mặc định chức năng như self*"
   ]
  },
  {
   "cell_type": "code",
   "execution_count": 26,
   "id": "2c9cd0a6",
   "metadata": {},
   "outputs": [
    {
     "name": "stdout",
     "output_type": "stream",
     "text": [
      "Hello my name is Alan\n"
     ]
    }
   ],
   "source": [
    "class Person:\n",
    "\n",
    "    def __init__(self, name, age):\n",
    "        self.name = name\n",
    "        self.age = age\n",
    "\n",
    "    def myfunc(self):\n",
    "\n",
    "        print(\"Hello my name is \" + self.name)\n",
    "\n",
    "p1 = Person(\"Alan\", 20)\n",
    "p1.myfunc()"
   ]
  },
  {
   "cell_type": "code",
   "execution_count": 27,
   "id": "45144552",
   "metadata": {},
   "outputs": [
    {
     "name": "stdout",
     "output_type": "stream",
     "text": [
      "Hello my name is Alan\n",
      "Alan\n",
      "20\n"
     ]
    }
   ],
   "source": [
    "class Person:\n",
    "\n",
    "    def __init__(self, name, age):\n",
    "        self.name = name\n",
    "        self.age = age\n",
    "\n",
    "    def myfunc(self):\n",
    "\n",
    "        print(\"Hello my name is \" + self.name)\n",
    "\n",
    "p1 = Person(\"Alan\", 20)\n",
    "p1.myfunc()\n",
    "print(p1.name)\n",
    "print(p1.age)"
   ]
  },
  {
   "cell_type": "code",
   "execution_count": 28,
   "id": "b85a4b5d",
   "metadata": {},
   "outputs": [
    {
     "name": "stdout",
     "output_type": "stream",
     "text": [
      "Fer is a red convertible worth $60000.00.\n",
      "Fer\n",
      "Jump is a blue van worth $10000.00.\n",
      "Jump\n"
     ]
    }
   ],
   "source": [
    "class Vehicle:\n",
    "    name = \"\"\n",
    "    kind = \"car\"\n",
    "    color = \"\"\n",
    "    value = 100.00\n",
    "    def description(self):\n",
    "\n",
    "        desc_str = \"%s is a %s %s worth $%.2f.\" %(self.name, self.color, self.kind, self.value)\n",
    "\n",
    "        return desc_str\n",
    "car1 = Vehicle()\n",
    "car1.name = \"Fer\"\n",
    "car1.color = \"red\"\n",
    "car1.kind = \"convertible\"\n",
    "car1.value = 60000.00\n",
    "\n",
    "car2 = Vehicle()\n",
    "car2.name = \"Jump\"\n",
    "car2.color = \"blue\"\n",
    "car2.kind = \"van\"\n",
    "car2.value = 10000.00\n",
    "\n",
    "print(car1.description())\n",
    "print(car1.name)\n",
    "print(car2.description())\n",
    "print(car2.name)"
   ]
  },
  {
   "cell_type": "markdown",
   "id": "352bb533",
   "metadata": {},
   "source": [
    "## Python modules\n",
    "- Consider a module to be the same as a code library.\n",
    "- A file containing a set of functions you want to include in your application.\n",
    "- Create a Module\n",
    "- To create a module just save the code you want in a file with the file extension .py:\n",
    "- Use a Module\n",
    "- import module"
   ]
  },
  {
   "cell_type": "code",
   "execution_count": 3,
   "id": "a236c902",
   "metadata": {},
   "outputs": [
    {
     "name": "stdout",
     "output_type": "stream",
     "text": [
      "Hello, Alan\n"
     ]
    }
   ],
   "source": [
    "import mymodule\n",
    "mymodule.greeting(\"Alan\")"
   ]
  },
  {
   "cell_type": "markdown",
   "id": "db9e03d6",
   "metadata": {},
   "source": [
    "### Python main() function"
   ]
  },
  {
   "cell_type": "code",
   "execution_count": 1,
   "id": "50847e3f",
   "metadata": {},
   "outputs": [
    {
     "name": "stdout",
     "output_type": "stream",
     "text": [
      "Hello World!\n"
     ]
    }
   ],
   "source": [
    "#Python main() function\n",
    "def main():\n",
    "\n",
    "    print(\"Hello World!\")\n",
    "\n",
    "if __name__ == \"__main__\":\n",
    "\n",
    "    main() "
   ]
  },
  {
   "cell_type": "markdown",
   "id": "1eada9f0",
   "metadata": {},
   "source": [
    "Python Functions \n",
    "\n",
    "- def myfunction():\n",
    "Python Classes/Objects\n",
    "\n",
    "- class Myclass"
   ]
  },
  {
   "cell_type": "markdown",
   "id": "0761fa83",
   "metadata": {},
   "source": [
    "# KẾT THÚC"
   ]
  }
 ],
 "metadata": {
  "kernelspec": {
   "display_name": "Python 3",
   "language": "python",
   "name": "python3"
  },
  "language_info": {
   "codemirror_mode": {
    "name": "ipython",
    "version": 3
   },
   "file_extension": ".py",
   "mimetype": "text/x-python",
   "name": "python",
   "nbconvert_exporter": "python",
   "pygments_lexer": "ipython3",
   "version": "3.11.9"
  }
 },
 "nbformat": 4,
 "nbformat_minor": 5
}
